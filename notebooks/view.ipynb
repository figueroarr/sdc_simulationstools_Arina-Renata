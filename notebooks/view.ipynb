{
 "cells": [
  {
   "cell_type": "markdown",
   "id": "737723a0",
   "metadata": {},
   "source": [
    "Stellen Sie sicher, dass die requirements.txt Datei vorhanden ist und alle Pakete installiert sind."
   ]
  },
  {
   "cell_type": "code",
   "execution_count": null,
   "id": "37b8ad1a",
   "metadata": {},
   "outputs": [],
   "source": [
    "import sys\n",
    "sys.path.append('../') # um Funktionen aus dem Parent-Verzeichnis zu laden\n",
    "\n",
    "import scipy\n",
    "\n",
    "import numpy as np \n",
    "import pandas as pd\n",
    "\n",
    "import matplotlib.pyplot as plt\n",
    "import matplotlib as mpl\n",
    "\n",
    "from platform import platform\n",
    "\n",
    "print(\"Python :\", sys.version.split()[0])\n",
    "print(\"Plattform:\", platform())\n",
    "print(\"NumPy   :\", np.__version__)\n",
    "print(\"SciPy   :\", scipy.__version__)\n",
    "print(\"pandas  :\", pd.__version__)\n",
    "print(\"mpl     :\", mpl.__version__)"
   ]
  },
  {
   "cell_type": "markdown",
   "id": "9fc6a617",
   "metadata": {},
   "source": [
    "# Aufgabe 1"
   ]
  },
  {
   "cell_type": "markdown",
   "id": "be32cabe",
   "metadata": {},
   "source": [
    "Stellen Sie sicher, dass das aktuelle Hauptverzeichnis dem folgenden Muster entspricht:\n",
    "```\n",
    "project/\n",
    "  configs/           # YAML/JSON für Seeds, Parameter\n",
    "  data/\n",
    "    raw/            # unverändert, read-only\n",
    "    interim/        # bereinigt/transformiert\n",
    "    processed/      # final für Analysen\n",
    "  figures/          # PNG/PDF-Plots\n",
    "  notebooks/        # Exploration, Demos\n",
    "  reports/          # Tabellen + Kurztexte\n",
    "  src/              # Funktionen/Modelle\n",
    "  tests/            # Unit-/Smoke-Tests\n",
    "  requirements.txt  # oder: environment.yml\n",
    "  README.md"
   ]
  },
  {
   "cell_type": "code",
   "execution_count": null,
   "id": "92924bc2",
   "metadata": {},
   "outputs": [],
   "source": [
    "!ls -lh .."
   ]
  },
  {
   "cell_type": "markdown",
   "id": "fc2b719c",
   "metadata": {},
   "source": [
    "Zeigen Sie den Inhalt der ABOUT.txt Datei an. Dieser sollte in etwa so aussehen:\n",
    "```markdown\n",
    "Projekt: Uebung 1 (Kapitel 1)\n",
    "Datum: 2025-08-26\n",
    "Autor:innen: Vorname Nachname; Vorname2 Nachname2\n",
    "Python: 3.11.x\n",
    "Pakete:\n",
    "  numpy 1.26.4\n",
    "  scipy 1.13.1\n",
    "  pandas 2.2.2\n",
    "  matplotlib 3.8.4\n",
    "Seed-Strategie: \n",
    "  globale Start-SeedSequence (configs/seeds.yml), \n",
    "  pro Run abgeleitet\n",
    "```"
   ]
  },
  {
   "cell_type": "code",
   "execution_count": null,
   "id": "94cd332c",
   "metadata": {},
   "outputs": [],
   "source": [
    "!cat ../reports/ABOUT.txt"
   ]
  },
  {
   "cell_type": "markdown",
   "id": "d3528e7f",
   "metadata": {},
   "source": [
    "Checke Sie die Readme.md Datei:"
   ]
  },
  {
   "cell_type": "markdown",
   "id": "1952caf7",
   "metadata": {},
   "source": [
    "```\n",
    "# Übung 1 Reproduzierbarkeit & MC-Basics\n",
    "\n",
    "## Setup\n",
    "\n",
    "- Virtuelle Umgebung erstellen: `python -m venv venv`\n",
    "\n",
    "## Reproduktion\n",
    "\n",
    "- RNG-Checks: `python src/rng_checks.py`\n",
    "- pi-Schätzung: `python src/pi_mc.py`\n",
    "- MC-Integration: `python src/integration.py`\n",
    "\n",
    "Ergebnisse & Plots werden in `reports/` bzw. `figures/` abgelegt.\n",
    "```"
   ]
  },
  {
   "cell_type": "code",
   "execution_count": null,
   "id": "876d0988",
   "metadata": {},
   "outputs": [],
   "source": [
    "!cat ../README.md"
   ]
  },
  {
   "cell_type": "markdown",
   "id": "0db9b60b",
   "metadata": {},
   "source": [
    "# Aufgabe 2"
   ]
  },
  {
   "cell_type": "markdown",
   "id": "80b96943",
   "metadata": {},
   "source": [
    "## a) Gleichverteilung"
   ]
  },
  {
   "cell_type": "code",
   "execution_count": null,
   "id": "a0cb8bce",
   "metadata": {},
   "outputs": [],
   "source": [
    "from src.rng_checks import check_uniform\n",
    "seed = 42\n",
    "rng = np.random.default_rng(seed)"
   ]
  },
  {
   "cell_type": "code",
   "execution_count": null,
   "id": "a08e835b",
   "metadata": {},
   "outputs": [],
   "source": [
    "check_uniform(N=10_000, out_prefix=\"../figures/uniform_1e4\", rng=rng)"
   ]
  },
  {
   "cell_type": "code",
   "execution_count": null,
   "id": "989d7f2c",
   "metadata": {},
   "outputs": [],
   "source": [
    "check_uniform(N=100_000, out_prefix=\"../figures/uniform_1e5\", rng=rng)"
   ]
  },
  {
   "cell_type": "markdown",
   "id": "5976d0f1",
   "metadata": {},
   "source": [
    "Vergleichen und interpretieren Sie die ergebnisse der beiden Funktionsaufrufe, und interpretieren Sie die erstellten Grafiken im Verzeichnis `figures/`."
   ]
  },
  {
   "cell_type": "markdown",
   "id": "52174eda",
   "metadata": {},
   "source": [
    "## b) Standardnormalverteilung"
   ]
  },
  {
   "cell_type": "code",
   "execution_count": null,
   "id": "61edd3a7",
   "metadata": {},
   "outputs": [],
   "source": [
    "from src.rng_checks import check_normal\n",
    "seed = 42\n",
    "rng = np.random.default_rng(seed)"
   ]
  },
  {
   "cell_type": "code",
   "execution_count": null,
   "id": "2c273b37",
   "metadata": {},
   "outputs": [],
   "source": [
    "check_normal(N=10_000, out_prefix=\"../figures/normal_1e4\", rng=rng)"
   ]
  },
  {
   "cell_type": "code",
   "execution_count": null,
   "id": "d79b9e07",
   "metadata": {},
   "outputs": [],
   "source": [
    "check_normal(N=100_000, out_prefix=\"../figures/normal_1e5\", rng=rng)"
   ]
  },
  {
   "cell_type": "markdown",
   "id": "2b02eaca",
   "metadata": {},
   "source": [
    "Vergleichen und interpretieren Sie die Histogramme mit der theoretischen Dichtefunktion der Standardnormalverteilung, und analysieren Sie die QQ-Plots"
   ]
  },
  {
   "cell_type": "markdown",
   "id": "26888376",
   "metadata": {},
   "source": [
    "# Aufgabe 3"
   ]
  },
  {
   "cell_type": "markdown",
   "id": "5a018dab",
   "metadata": {},
   "source": [
    "## a)"
   ]
  },
  {
   "cell_type": "markdown",
   "id": "c75fec7b",
   "metadata": {},
   "source": [
    "Implementieren Sie in `src/pi\\_mc.py` die Funktion nach Vorgaben dieses Docstrings:\n",
    "\n",
    "```python\n",
    "def estimate_pi(n_samples, rng): \n",
    "    \"\"\"\n",
    "    Schätzt pi mittels Viertelkreis-MC und liefert (pi_hat, \n",
    "    se) zurück.\n",
    "    \n",
    "    Parameter\n",
    "    ---------\n",
    "    n_samples : int\n",
    "        Anzahl der Zufallspunkte.\n",
    "    rng : np.random.Generator\n",
    "        Zufallszahlengenerator (z. B. \n",
    "        np.random.default_rng(seed)).\n",
    "\n",
    "    Returns\n",
    "    -------\n",
    "    pi_hat : float\n",
    "        Schätzer für pi (4 * Trefferquote).\n",
    "    se : float\n",
    "        Standardfehler von pi_hat aus der Binomialnäherung.\n",
    "    \"\"\"\n",
    "```"
   ]
  },
  {
   "cell_type": "code",
   "execution_count": null,
   "id": "61557bed",
   "metadata": {},
   "outputs": [],
   "source": [
    "from src.pi_mc import estimate_pi\n",
    "seed = 42\n",
    "rng = np.random.default_rng(seed)\n"
   ]
  },
  {
   "cell_type": "code",
   "execution_count": null,
   "id": "ac506f9a",
   "metadata": {},
   "outputs": [],
   "source": [
    "estimate_pi(n_samples=10_000,  rng=rng)"
   ]
  },
  {
   "cell_type": "markdown",
   "id": "05bba398",
   "metadata": {},
   "source": [
    "## b)"
   ]
  },
  {
   "cell_type": "markdown",
   "id": "257e026e",
   "metadata": {},
   "source": [
    "Bearchten Sie den Unterschied zwischen `root` und `rng`"
   ]
  },
  {
   "cell_type": "code",
   "execution_count": null,
   "id": "579d974e",
   "metadata": {},
   "outputs": [],
   "source": [
    "from src.pi_mc import replicate\n",
    "seed = 42\n",
    "rsseq = np.random.SeedSequence(seed)"
   ]
  },
  {
   "cell_type": "code",
   "execution_count": null,
   "id": "b15fef56",
   "metadata": {},
   "outputs": [],
   "source": [
    "Ns = (10**3, 10**4, 10**5), \n",
    "R = 20"
   ]
  },
  {
   "cell_type": "code",
   "execution_count": null,
   "id": "29c1b35c",
   "metadata": {},
   "outputs": [],
   "source": [
    "summary = replicate(Ns=Ns, R=R, rsseq=rsseq)"
   ]
  },
  {
   "cell_type": "code",
   "execution_count": null,
   "id": "08ffbac9",
   "metadata": {},
   "outputs": [],
   "source": [
    "# plot von Schätzwerten in spalte mu vs mit ci_lo, ci_hi als errorbars und horizontaler Linie bei pi\n",
    "plt.errorbar(summary.N, summary.mu, \n",
    "            yerr=[summary.mu - summary.ci_lo, summary.ci_hi - summary.mu], \n",
    "            fmt='o', label='Schätzer mit 95% CI')\n",
    "plt.axhline(y=np.pi, color='r', linestyle='--', label='Wahrer Wert (π)')\n",
    "plt.xscale('log')\n",
    "plt.xlabel('Anzahl Stichproben (log scale)')\n",
    "plt.ylabel('Schätzer für π')\n",
    "plt.title('Schätzung von π mittels Monte Carlo Simulation')\n",
    "plt.legend()\n",
    "plt.grid(True)\n",
    "plt.savefig(\"../figures/pi_estimation_vs_samples.png\", dpi=300)"
   ]
  },
  {
   "cell_type": "markdown",
   "id": "1df43521",
   "metadata": {},
   "source": [
    "Kommentieren Sie die $\\frac{1}{\\sqrt{N}}$ Skalierung der Standardabweichung"
   ]
  },
  {
   "cell_type": "markdown",
   "id": "c01c0be8",
   "metadata": {},
   "source": [
    "# Aufgabe 4"
   ]
  },
  {
   "cell_type": "code",
   "execution_count": null,
   "id": "72905da8",
   "metadata": {},
   "outputs": [],
   "source": [
    "import numpy as np"
   ]
  },
  {
   "cell_type": "markdown",
   "id": "cbc23921",
   "metadata": {},
   "source": [
    "## a)"
   ]
  },
  {
   "cell_type": "code",
   "execution_count": null,
   "id": "24bb4f74",
   "metadata": {},
   "outputs": [],
   "source": [
    "def g1(x):\n",
    "    # Fügen Sie hier Ihre Funktion g1(x) ein\n",
    "    return "
   ]
  },
  {
   "cell_type": "code",
   "execution_count": null,
   "id": "3bd89f02",
   "metadata": {},
   "outputs": [],
   "source": [
    "def g2(x):\n",
    "    # Fügen Sie hier Ihre Funktion g2(x) ein\n",
    "    return "
   ]
  },
  {
   "cell_type": "code",
   "execution_count": null,
   "id": "ca3da1e3",
   "metadata": {},
   "outputs": [],
   "source": [
    "def g3(x):\n",
    "    # Fügen Sie hier Ihre Funktion g3(x) ein\n",
    "    return "
   ]
  },
  {
   "cell_type": "markdown",
   "id": "55e2878f",
   "metadata": {},
   "source": [
    "## b)"
   ]
  },
  {
   "cell_type": "markdown",
   "id": "b4746a92",
   "metadata": {},
   "source": [
    "Erstellen Sie einen Sampler für die Gleichverteilung aus der Aufgabenstellung"
   ]
  },
  {
   "cell_type": "code",
   "execution_count": null,
   "id": "f0e61f57",
   "metadata": {},
   "outputs": [],
   "source": [
    "def sample_u01(N, rng) :\n",
    "    return rng.random(N)"
   ]
  },
  {
   "cell_type": "markdown",
   "id": "ddde6147",
   "metadata": {},
   "source": [
    "## c)"
   ]
  },
  {
   "cell_type": "markdown",
   "id": "74ff67af",
   "metadata": {},
   "source": [
    "Implementieren Sie eine generische Funktion `integrate`  in `src/integration.py`"
   ]
  },
  {
   "cell_type": "code",
   "execution_count": null,
   "id": "7e454628",
   "metadata": {},
   "outputs": [],
   "source": [
    "from src.integration import mc_expectation\n",
    "seed = 42\n",
    "rsseq = np.random.SeedSequence(seed)\n"
   ]
  },
  {
   "cell_type": "markdown",
   "id": "cfac3992",
   "metadata": {},
   "source": [
    "## d)"
   ]
  },
  {
   "cell_type": "code",
   "execution_count": null,
   "id": "a2b86f01",
   "metadata": {},
   "outputs": [],
   "source": [
    "from time import perf_counter\n",
    "Ns = (10**3, 10**4, 10**5)\n"
   ]
  },
  {
   "cell_type": "code",
   "execution_count": null,
   "id": "69620a01",
   "metadata": {},
   "outputs": [],
   "source": [
    "rows = []\n",
    "for n in Ns:\n",
    "    # unabhängiger Stream pro n:\n",
    "    seed = rsseq.spawn(1)[0]\n",
    "    # seed für diese Iteration\n",
    "    rng = np.random.default_rng(seed)\n",
    "    # überlegen Sie sich, was diese For-Schleife macht\n",
    "    for name, g in ((\"g1\", g1), (\"g2\", g2), (\"g3\", g3)):\n",
    "        t0 = perf_counter()\n",
    "        mu, se = mc_expectation(g, sample_u01, n, rng)\n",
    "        dt = perf_counter() - t0\n",
    "        rows.append(\n",
    "            {\"n\": n, \n",
    "            \"func\": name, \n",
    "            \"mu\": mu, \n",
    "            \"se\": se, \n",
    "            \"time_s\": dt\n",
    "            }\n",
    "        )\n",
    "df =  pd.DataFrame(rows)"
   ]
  },
  {
   "cell_type": "code",
   "execution_count": null,
   "id": "eab6956e",
   "metadata": {},
   "outputs": [],
   "source": [
    "df"
   ]
  }
 ],
 "metadata": {
  "language_info": {
   "name": "python"
  }
 },
 "nbformat": 4,
 "nbformat_minor": 5
}
